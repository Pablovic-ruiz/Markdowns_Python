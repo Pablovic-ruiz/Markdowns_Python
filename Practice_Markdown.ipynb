{
  "nbformat": 4,
  "nbformat_minor": 0,
  "metadata": {
    "colab": {
      "name": "Practice-Markdown.ipynb",
      "provenance": [],
      "collapsed_sections": [],
      "authorship_tag": "ABX9TyNK8Eb6EQG2504lUezDa7Jz",
      "include_colab_link": true
    },
    "kernelspec": {
      "name": "python3",
      "display_name": "Python 3"
    },
    "language_info": {
      "name": "python"
    }
  },
  "cells": [
    {
      "cell_type": "markdown",
      "metadata": {
        "id": "view-in-github",
        "colab_type": "text"
      },
      "source": [
        "<a href=\"https://colab.research.google.com/github/Pablovic-ruiz/Markdowns_Python/blob/main/Practice_Markdown.ipynb\" target=\"_parent\"><img src=\"https://colab.research.google.com/assets/colab-badge.svg\" alt=\"Open In Colab\"/></a>"
      ]
    },
    {
      "cell_type": "code",
      "metadata": {
        "colab": {
          "base_uri": "https://localhost:8080/"
        },
        "id": "EKFY3hmOdbB9",
        "outputId": "acfa9669-3955-4912-8864-2424690e904a"
      },
      "source": [
        "print(\"Hello World\")"
      ],
      "execution_count": 1,
      "outputs": [
        {
          "output_type": "stream",
          "name": "stdout",
          "text": [
            "Hello World\n"
          ]
        }
      ]
    },
    {
      "cell_type": "markdown",
      "metadata": {
        "id": "FBZoGxy-dsjw"
      },
      "source": [
        "# Task Week 1: Creating Markdown in Jupyter\n",
        "\n",
        "This is a word in *italics* and this one is in **bold**. Moreover, This is a link to [Google](https://www.google.com).\n",
        "\n",
        "## For Lists:\n",
        "\n",
        "We can have a numbered list:\n",
        "1. One\n",
        "2. Two\n",
        "3. Three\n",
        "\n",
        "Or a bullet point list:\n",
        "* One\n",
        "* Two\n",
        "* Three\n",
        "\n",
        "Or maybe a list based on dashes and subpoints:\n",
        "- One \n",
        "- Two\n",
        "  - Subpoint One\n",
        "\n",
        "And here is an image!\n",
        "\n",
        "![ss1](https://user-images.githubusercontent.com/64378376/133906067-e54bebcb-5beb-4f9a-9c8b-c0d9ddbc86be.JPG)\n",
        "\n",
        "If you want to get more fancy, then you can use these types of `characters`.\n",
        "\n",
        "Or maybe simple quote something:\n",
        "\n",
        "> Quote1. - Yes, it is quote one.\n",
        "\n",
        "> Quote2. - Yes! It is quote two.\n",
        "\n",
        "By the way, in case you want to show-off your coding skills, you can include code highlighted blocks:\n",
        "\n",
        "```javascript\n",
        "if (isAwesome){\n",
        "  return true\n",
        "}\n",
        "```\n",
        "Last, but not least, you can inlcude some check boxes at you script:\n",
        "\n",
        "- [x] This is a complete item\n",
        "- [ ] This is an incomplete item\n",
        "\n"
      ]
    },
    {
      "cell_type": "code",
      "metadata": {
        "id": "L3BSh9FGdrtF"
      },
      "source": [
        ""
      ],
      "execution_count": null,
      "outputs": []
    }
  ]
}